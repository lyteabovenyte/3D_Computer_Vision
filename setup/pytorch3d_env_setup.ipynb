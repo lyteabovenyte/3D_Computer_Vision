{
 "cells": [
  {
   "cell_type": "code",
   "execution_count": null,
   "id": "5d595950",
   "metadata": {},
   "outputs": [],
   "source": [
    "\n",
    "import os\n",
    "import sys\n",
    "import zipfile\n",
    "from pathlib import Path\n",
    "\n",
    "def setup_env(\n",
    "    torch_wheel_dir=\"/content/drive/MyDrive/torch_wheels\",\n",
    "    pytorch3d_zip_path=\"/content/drive/MyDrive/pytorch3d_cached.zip\",\n",
    "    pytorch3d_extract_dir=\"/content/pytorch3d_cached\"\n",
    "):\n",
    "    # 1. Mount Google Drive\n",
    "    from google.colab import drive\n",
    "    drive.mount('/content/drive')\n",
    "\n",
    "    # 2. Install PyTorch from cached .whl files\n",
    "    print(\"📦 Installing PyTorch from cached wheels...\")\n",
    "    !pip install {torch_wheel_dir}/torch-2.0.1+cu118*.whl --quiet\n",
    "    !pip install {torch_wheel_dir}/torchvision-0.15.2+cu118*.whl --quiet\n",
    "    !pip install {torch_wheel_dir}/torchaudio-2.0.2*.whl --quiet\n",
    "\n",
    "    # 3. Extract PyTorch3D zip if not already extracted\n",
    "    if not Path(pytorch3d_extract_dir).exists():\n",
    "        print(\"📦 Extracting PyTorch3D zip...\")\n",
    "        with zipfile.ZipFile(pytorch3d_zip_path, 'r') as zip_ref:\n",
    "            zip_ref.extractall(pytorch3d_extract_dir)\n",
    "    else:\n",
    "        print(\"✅ PyTorch3D already extracted.\")\n",
    "\n",
    "    # 4. Add to sys.path\n",
    "    sys.path.append(pytorch3d_extract_dir)\n",
    "    print(\"📦 Added PyTorch3D to sys.path\")\n",
    "\n",
    "    # 5. Import to confirm\n",
    "    import torch\n",
    "    print(\"✅ PyTorch version:\", torch.__version__)\n",
    "    print(\"✅ CUDA version:\", torch.version.cuda)\n",
    "\n",
    "    import pytorch3d\n",
    "    from pytorch3d.structures import Meshes\n",
    "    print(\"✅ PyTorch3D is working!\")\n",
    "\n",
    "# Run setup\n",
    "setup_env()\n"
   ]
  },
  {
   "cell_type": "code",
   "execution_count": null,
   "id": "47731742",
   "metadata": {},
   "outputs": [],
   "source": [
    "!pip install torch==2.5.1"
   ]
  },
  {
   "cell_type": "code",
   "execution_count": null,
   "id": "fcda0953",
   "metadata": {},
   "outputs": [],
   "source": []
  }
 ],
 "metadata": {
  "language_info": {
   "name": "python"
  }
 },
 "nbformat": 4,
 "nbformat_minor": 5
}
