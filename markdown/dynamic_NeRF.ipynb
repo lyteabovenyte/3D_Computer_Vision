{
 "cells": [
  {
   "cell_type": "markdown",
   "id": "173bae13",
   "metadata": {},
   "source": [
    "### D-NeRF\n",
    "original paper can be found [here](https://arxiv.org/pdf/2011.13961)"
   ]
  },
  {
   "cell_type": "markdown",
   "id": "7c30f0fa",
   "metadata": {},
   "source": [
    "where in the static NeRF implementation the goal is to computer color and view-dependent density from the 5D input (spatial + direction)\n",
    "\n",
    "in Dynamic NeRF:\n",
    "\n",
    "based on the original paper For this purpose we consider time as an\n",
    "additional input to the system, and split the learning process\n",
    "in two main stages: one that encodes the scene into a canonical space and another that maps this canonical representation into the deformed scene at a particular time"
   ]
  },
  {
   "cell_type": "code",
   "execution_count": null,
   "id": "de3d8cec-4311-4edd-bc9b-8e0f7f1eb64a",
   "metadata": {},
   "outputs": [],
   "source": []
  }
 ],
 "metadata": {
  "kernelspec": {
   "display_name": "Python 3 (ipykernel)",
   "language": "python",
   "name": "python3"
  },
  "language_info": {
   "codemirror_mode": {
    "name": "ipython",
    "version": 3
   },
   "file_extension": ".py",
   "mimetype": "text/x-python",
   "name": "python",
   "nbconvert_exporter": "python",
   "pygments_lexer": "ipython3",
   "version": "3.12.7"
  }
 },
 "nbformat": 4,
 "nbformat_minor": 5
}
