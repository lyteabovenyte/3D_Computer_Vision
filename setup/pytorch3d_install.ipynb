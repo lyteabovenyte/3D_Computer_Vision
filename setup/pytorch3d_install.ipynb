{
 "cells": [
  {
   "cell_type": "code",
   "execution_count": null,
   "id": "bdd13735",
   "metadata": {},
   "outputs": [],
   "source": [
    "import os\n",
    "import sys\n",
    "import torch\n",
    "need_pytorch3d=False\n",
    "try:\n",
    "    import pytorch3d\n",
    "except ModuleNotFoundError:\n",
    "    need_pytorch3d=True\n",
    "\n",
    "if need_pytorch3d:\n",
    "    if torch.__version__.startswith('1.7') and sys.platform.startswith('linux'):\n",
    "        version_str=\"\".join([\n",
    "            f\"py3{sys.version_info.minor}_cu\",\n",
    "            torch.version.cuda.replace(\".\",\"\"),\n",
    "            f\"_pyt{torch.__version__[0:5:2]}\"\n",
    "        ])\n",
    "        !pip install pytorch3d -f https://dl.fbaipublicfiles.com/pytorch3d/packaging/wheels/{version_str}/download.html\n",
    "    else:\n",
    "        !curl -LO https://github.com/NVIDIA/cub/archive/1.10.0.tar.gz|\n",
    "        !tar xzf 1.10.0.tar.gz\n",
    "        os.environ[\"CUB_HOME\"] = os.getcwd() + \"/cub-1.10.0\"\n",
    "        !pip install 'git+https://github.com/facebookresearch/pytorch3d.git@stable'"
   ]
  },
  {
   "cell_type": "code",
   "execution_count": null,
   "id": "566ba70e",
   "metadata": {},
   "outputs": [],
   "source": [
    "!pip install torch torchvision torchaudio --index-url https://download.pytorch.org/whl/cu118"
   ]
  },
  {
   "cell_type": "code",
   "execution_count": null,
   "id": "e4a77699",
   "metadata": {},
   "outputs": [],
   "source": [
    "!pip install 'git+https://github.com/facebookresearch/pytorch3d.git'"
   ]
  },
  {
   "cell_type": "markdown",
   "id": "a47c3342",
   "metadata": {},
   "source": [
    "---\n",
    "\n",
    "**New way of doing it**"
   ]
  },
  {
   "cell_type": "code",
   "execution_count": null,
   "id": "5215e74b",
   "metadata": {},
   "outputs": [],
   "source": [
    "# Remove current PyTorch first (optional safety)\n",
    "!pip uninstall -y torch torchvision torchaudio\n",
    "\n",
    "# Install compatible PyTorch with CUDA 11.8\n",
    "!pip install torch==2.0.1+cu118 torchvision==0.15.2+cu118 torchaudio==2.0.2 --index-url https://download.pytorch.org/whl/cu118\n",
    "\n",
    "# Install PyTorch3D (latest stable from GitHub)\n",
    "!pip install -U fvcore iopath\n",
    "!pip install \"git+https://github.com/facebookresearch/pytorch3d.git\""
   ]
  },
  {
   "cell_type": "code",
   "execution_count": null,
   "id": "8e18f45b",
   "metadata": {},
   "outputs": [],
   "source": [
    "# zip installed package\n",
    "# Run this after successful install\n",
    "!mkdir -p /content/pytorch3d_cached\n",
    "!cp -r /usr/local/lib/python3.10/dist-packages/*torch3d* /content/pytorch3d_cached/\n",
    "!cp -r /usr/local/lib/python3.10/dist-packages/fvcore* /content/pytorch3d_cached/\n",
    "!cp -r /usr/local/lib/python3.10/dist-packages/iopath* /content/pytorch3d_cached/\n",
    "!cd /content && zip -r pytorch3d_cached.zip pytorch3d_cached\n",
    "\n",
    "# mount to google colab\n",
    "from google.colab import drive\n",
    "drive.mount('/content/drive')\n",
    "!cp /content/pytorch3d_cached.zip /content/drive/MyDrive/"
   ]
  },
  {
   "cell_type": "code",
   "execution_count": null,
   "id": "2a3b8bb6",
   "metadata": {},
   "outputs": [],
   "source": [
    "# first download the wheels for torch\n",
    "from google.colab import drive\n",
    "drive.mount('/content/drive')\n",
    "\n",
    "# Install from your cached .whl files\n",
    "!pip install /content/drive/MyDrive/torch_wheels/torch-2.0.1+cu118*.whl\n",
    "!pip install /content/drive/MyDrive/torch_wheels/torchvision-0.15.2+cu118*.whl\n",
    "!pip install /content/drive/MyDrive/torch_wheels/torchaudio-2.0.2*.whl\n",
    "\n",
    "\n",
    "# on future runs\n",
    "# Mount Drive\n",
    "# from google.colab import drive\n",
    "# drive.mount('/content/drive')\n",
    "\n",
    "# Unzip and add to sys.path\n",
    "!unzip /content/drive/MyDrive/pytorch3d_cached.zip -d /content/\n",
    "import sys\n",
    "sys.path.append(\"/content/pytorch3d_cached\")"
   ]
  },
  {
   "cell_type": "code",
   "execution_count": null,
   "id": "97c492b2",
   "metadata": {},
   "outputs": [],
   "source": []
  },
  {
   "cell_type": "code",
   "execution_count": null,
   "id": "9e985d43",
   "metadata": {},
   "outputs": [],
   "source": []
  }
 ],
 "metadata": {
  "kernelspec": {
   "display_name": "venv",
   "language": "python",
   "name": "python3"
  },
  "language_info": {
   "codemirror_mode": {
    "name": "ipython",
    "version": 3
   },
   "file_extension": ".py",
   "mimetype": "text/x-python",
   "name": "python",
   "nbconvert_exporter": "python",
   "pygments_lexer": "ipython3",
   "version": "3.11.8"
  }
 },
 "nbformat": 4,
 "nbformat_minor": 5
}
