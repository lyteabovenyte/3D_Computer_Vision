{
 "cells": [
  {
   "cell_type": "code",
   "execution_count": 2,
   "id": "9922da96",
   "metadata": {},
   "outputs": [
    {
     "data": {
      "text/html": [
       "\n",
       "<style>\n",
       ".rendered_html {\n",
       "    font-family: Monaco, monospace;\n",
       "    font-size: 12px;\n",
       "}\n",
       "</style>\n"
      ],
      "text/plain": [
       "<IPython.core.display.HTML object>"
      ]
     },
     "execution_count": 2,
     "metadata": {},
     "output_type": "execute_result"
    }
   ],
   "source": [
    "from IPython.core.display import HTML\n",
    "\n",
    "HTML(\"\"\"\n",
    "<style>\n",
    ".rendered_html {\n",
    "    font-family: Monaco, monospace;\n",
    "    font-size: 12px;\n",
    "}\n",
    "</style>\n",
    "\"\"\")"
   ]
  },
  {
   "cell_type": "markdown",
   "id": "deee9ad2",
   "metadata": {},
   "source": [
    "#### LEARNING PARTICLE DYNAMICS FOR MANIPULATING RIGID BODIES, DEFORMABLE OBJECTS, AND FLUIDS\n",
    "\n",
    "**DPI-Net** stands for Dynamic Particle Interactioin Network\n",
    "\n",
    "based on the [paper](http://dpi.csail.mit.edu/dpi-paper.pdf)"
   ]
  },
  {
   "cell_type": "markdown",
   "id": "68d94027",
   "metadata": {},
   "source": [
    "here we utilise 3D particles as the\n",
    "scene representation for the environment and develop dynamic particle interaction networks (DPI-Nets) for learning particle dynamics, focusing on capturing the dynamic, hierarchical, and long-range interactions of particles"
   ]
  },
  {
   "cell_type": "markdown",
   "id": "7484a7e4",
   "metadata": {},
   "source": [
    "<img src=./images/dpiNet.png width=600 style=\"display: block; margin: auto;\">"
   ]
  },
  {
   "cell_type": "markdown",
   "id": "d53f9d58",
   "metadata": {},
   "source": [
    "DPI-Nets combine three key features for eﬀective particle-based\n",
    "simulation and control: *multi-step spatial propagation, hierarchical\n",
    "particle structure, and dynamic interaction graphs.*"
   ]
  },
  {
   "cell_type": "markdown",
   "id": "c84bd697",
   "metadata": {},
   "source": [
    "Learning-Based 3D Particle Dynamics\n",
    "\n",
    "Preliminaries\n",
    "\n",
    "The learning-based 3D particle dynamics model is developed based on interaction networks (INs). We first outline how INs represent the physical system and then extend them to accommodate particle-based dynamics.\n",
    "We describe the scene representation that represents the interactions within a physical system as a directed graph, $z = (V, E)$, where vertices $V = {v_i}$ correspond to objects and edges $E = {e_k}$ denote relations. Specifically, $v_i = (x_i, r_i^v)$, where $x_i = (q_i, \\dot{q}_i)$ signifies the state of object $i$, encompassing its position $q_i$ and velocity $\\dot{q}_i$. The term $r_i^v$ designates its attributes (e.g., mass and radius). For the relation, we define $e_k = (a_k, b_k, r_k^e), 1 \\leq a_k, b_k \\leq |V|$, where $a_k$ is the receiver, $b_k$ is the sender, and both are integers. $r_k^e$ represents the type and attributes of relation $k$ (e.g., collision and spring connection).\n",
    "As discussed in Section 2.1, the objective is to construct a learnable physical engine capable of capturing the underlying physical interactions using function approximators $f_{\\theta}$. The learned model can subsequently be used for system identification and predicting the future state from the current interaction graph as $z_{t+1} = f_{\\theta}(z_t, u_t)$, where $z_t$ in this section denotes the particle-based scene representation at time $t$.\n",
    "Interaction networks: Battaglia et al. propose INs, a general-purpose, learnable physics engine that performs object- and relation-centric reasoning about physics. INs define an object function $f_V$ and a relation function $f_E$ to model objects and their relations in a compositional way. The future state at time $t + 1$ is predicted as\n",
    "$$e_{k,t} = f_E(v_{a_k,t}, v_{b_k,t}, r_k^e) \\quad k = 1, \\ldots, |E|,$$\n",
    "$$\\hat{v}{i,t+1} = f_V \\left( v{i,t}, \\sum_{k \\in \\mathcal{N}i} \\hat{e}{k,t} \\right) \\quad i = 1, \\ldots, |V|,$$\n",
    "where $v_{i,t} = (x_{i,t}, r_i^v)$ denotes object $i$ at time $t$, $a_k$ and $b_k$ are the receiver and sender of relation $e_k$, respectively, and $\\mathcal{N}_i$ denotes the relations where object $i$ is the receiver.\n"
   ]
  },
  {
   "cell_type": "markdown",
   "id": "9f150107",
   "metadata": {},
   "source": [
    "Propagation Networks\n",
    "A limitation of INs is that at every time step $t$, it only considers local information in the graph $z_t = (V_t, E_t)$ and cannot handle instantaneous changes in forces/accelerations in other bodies, which however is a common phenomenon in rigid-body dynamics. Li et al. proposed propagation networks to approximate the instantaneous force changes by doing multi-step message passing. Specifically, they first employed the ideas on fast training of RNNs to encode the shared information beforehand and reuse them along the propagation steps. The encoders for objects are denoted as $f_V^{\\text{enc}}$ and the encoder for relations as $f_E^{\\text{enc}}$, where we denote\n",
    "$$c_{k,t}^e = f_E^{\\text{enc}}(v_{a_k,t}, v_{b_k,t}, r_k^e) \\quad k = 1, \\dots, |E|,$$\n",
    "$$c_{i,t}^v = f_V^{\\text{enc}}(v_{i,t}), \\quad i = 1, \\dots, |V|.$$\n",
    "At time $t$, denote the propagating influence from relation $k$ at propagation step $l$ as $\\hat{e}{k,t}^l$ and the propagating influence from object $i$ as $\\hat{v}{i,t}^l$. For step $1 \\leq l \\leq L$, propagation can be described as\n",
    "Step 0:\n",
    "$$\\hat{v}_{i,t}^0 = 0, \\quad i = 1, \\dots, |V|,$$\n",
    "Step $l = 1, \\dots, L$:\n",
    "$$\\hat{e}_{k,t}^l = f_E^e \\left( \\hat{e}_{k,t}^{l-1}, \\hat{v}_{a_k,t}^{l-1} \\right), \\quad k = 1, \\dots, |E|,$$\n",
    "$$\\hat{v}_{i,t}^l = f_V \\left( \\hat{v}_{i,t}^{l-1}, \\sum_{k \\in N_i} \\hat{e}_{k,t}^l \\hat{v}_{i,t}^{l-1} \\right), \\quad i = 1, \\dots, |V|,$$\n",
    "Output:\n",
    "$$\\hat{v}_{i,t+1} = f_V^{\\text{output}}(\\hat{v}_{i,t}^L), \\quad i = 1, \\dots, |V|,$$\n",
    "where $f_V$ denotes the object propagator and $f_E$ denotes the relation propagator.\n"
   ]
  },
  {
   "cell_type": "markdown",
   "id": "d95e9c0d",
   "metadata": {},
   "source": [
    "#### Hierarchical modelling -> for long range dependence"
   ]
  },
  {
   "cell_type": "markdown",
   "id": "a0c04e01",
   "metadata": {},
   "source": [
    "Model predictive control using shooting methods -> Using SGD between the predicted $z_p$ by applying the control input $u_{1:H}$ (here $H$ is time horizon) and the goal $z_g$"
   ]
  },
  {
   "cell_type": "markdown",
   "id": "5af05b99",
   "metadata": {},
   "source": [
    "### Control:"
   ]
  },
  {
   "cell_type": "markdown",
   "id": "79f01448",
   "metadata": {},
   "source": [
    "so far, We leverage **dynamic particle interaction networks** for control tasks\n",
    "in both simulation and the real world. Because trajectory optimisation using the shooting method can easily be stuck to a local minimum, we first randomly sample $N_{sample}$ control sequences, similar\n",
    "to the [**MPPI**](https://arxiv.org/pdf/1509.01149) algorithm, and select the\n",
    "best-performing one according to the rollouts of our learned model.\n",
    "We then optimise it via the shooting method using our model’s gradients. We also use **online system identification** to further improve the model’s performance."
   ]
  },
  {
   "cell_type": "markdown",
   "id": "38112329",
   "metadata": {},
   "source": [
    "#### Notes on MPPI worth knowing:\n",
    "\n",
    "MPPI (Model Predictive Path Integral) Control is a sampling-based, derivative-free control algorithm for nonlinear, stochastic systems. It solves the stochastic optimal control problem by sampling trajectories, evaluating them under a cost function, and then updating control actions accordingly.\n",
    "\n",
    "It’s based on path integral control theory, which reformulates the stochastic optimal control problem into an expectation under a modified distribution. MPPI applies this iteratively in a **model predictive control (MPC)** framework—recomputing the optimal control at each timestep using a *rolling horizon*."
   ]
  },
  {
   "cell_type": "markdown",
   "id": "a396cb19",
   "metadata": {},
   "source": [
    "----\n",
    "from the paper itself -> [paper](http://dpi.csail.mit.edu/dpi-paper.pdf)"
   ]
  },
  {
   "cell_type": "markdown",
   "id": "59ab6ca9",
   "metadata": {},
   "source": [
    "DPI-Nets combine three key features for effective particle-based simulation and control: multi-step\n",
    "spatial propagation, hierarchical particle structure, and dynamic interaction graphs. In particular,\n",
    "it employs dynamic interaction graphs, built on the fly throughout manipulation, to capture the\n",
    "meaningful interactions among particles of deformable objects and fluids. The use of dynamic graphs\n",
    "allows neural models to focus on learning meaningful interactions among particles, and is crucial for\n",
    "obtaining good simulation accuracy and high success rates in manipulation. As objects deform when\n",
    "robots interact with them, a fixed interaction graph over particles is insufficient for robot manipulating\n",
    "non-rigid objects."
   ]
  },
  {
   "cell_type": "markdown",
   "id": "92942c7d",
   "metadata": {},
   "source": [
    "An inspiring concurrent work from Mrowca et al. (2018) explored learning to approximate\n",
    "particle dynamics of deformable shapes with the **Hierarchical Relation Network (HRN)**. Compared\n",
    "with these papers, we introduce state-specific modeling and dynamic graphs for accurate forward\n",
    "prediction for different states of matter (rigid bodies, deformable shapes, fluids). We also demonstrate\n",
    "how the **learned dynamics model**(based on MPPI -> $N_{sample}$ and roll-out and optim) can be used for control in both simulation and real world."
   ]
  },
  {
   "cell_type": "markdown",
   "id": "e5656cb4",
   "metadata": {},
   "source": [
    "The goal is to build a learnable physical engine to capture the underlying physical interactions using\n",
    "function approximators $\\phi$. The learned model can then be used *to infer the system dynamics* and\n",
    "predict the future from the current interaction graph as $G_{t+1} = \\phi(G_t)$, where $G_t$ denotes the scene\n",
    "state at time $t$."
   ]
  },
  {
   "cell_type": "markdown",
   "id": "d19bc343",
   "metadata": {},
   "source": [
    "**Interaction Network**:\n",
    "\n",
    "interaction networks (IN), a general-\n",
    "purpose, **learnable physics engine** that performs object- and relation-centric reasoning about\n",
    "physics. INs define an object function $f_O$ and a relation function $f_R$ to model objects and\n",
    "their relations in a compositional way."
   ]
  },
  {
   "cell_type": "markdown",
   "id": "5a328cea",
   "metadata": {},
   "source": [
    "#### PropNet:\n",
    "\n",
    "$?$ In the PropNet section, why do we encode the shared information (like relation info), how is it used, and why is it necessary?"
   ]
  },
  {
   "cell_type": "markdown",
   "id": "417484fc",
   "metadata": {},
   "source": [
    "### DYNAMIC PARTICLE INTERACTION NETWORKS\n",
    "\n",
    "How is the graph built dynamically?\n",
    "\n",
    "For each time step:\n",
    "1.\tParticles = Nodes.\n",
    "2.\tEdges are formed by:\n",
    "    - Proximity: If particle i is within a cutoff radius of particle j, create an edge.\n",
    "    - Type constraints: Some edges only form if the particles are part of a fluid or deformable object.\n",
    "    - Predefined relations: For rigid objects or articulated structures, edge types may be fixed and reused."
   ]
  },
  {
   "cell_type": "code",
   "execution_count": null,
   "id": "9bedbec9",
   "metadata": {},
   "outputs": [],
   "source": [
    "# sample dynamic graph construction for a particle system\n",
    "# section 3.2.1 of the paper \n",
    "import torch\n",
    "from torch_scatter import scatter\n",
    "from torch_geometric.data import Data\n",
    "from torch_geometric.nn import MessagePassing\n",
    "\n",
    "def build_dynamic_graph(positions, cutoff_radius, relation_types=None):\n",
    "    \"\"\"\n",
    "    Build a graph dynamically based on particle positions.\n",
    "    \n",
    "    Args:\n",
    "        positions (Tensor): shape (N, 3) for N particles in 3D.\n",
    "        cutoff_radius (float): neighborhood radius for edge formation.\n",
    "        relation_types (optional): additional metadata to attach to edges.\n",
    "\n",
    "    Returns:\n",
    "        edge_index (Tensor): shape (2, E), edge list.\n",
    "        edge_attr (Tensor): shape (E, F), relation features if applicable.\n",
    "    \"\"\"\n",
    "    N = positions.size(0)\n",
    "    \n",
    "    # Compute pairwise distances (inefficient, for illustration)\n",
    "    diff = positions.unsqueeze(1) - positions.unsqueeze(0)  # (N, N, 3)\n",
    "    dist = torch.norm(diff, dim=2)  # (N, N)\n",
    "\n",
    "    # Threshold to find neighbors\n",
    "    edge_mask = (dist < cutoff_radius) & (dist > 0)  # remove self-edges\n",
    "\n",
    "    edge_index = edge_mask.nonzero(as_tuple=False).T  # shape (2, E)\n",
    "\n",
    "    # Optional: compute relation features (like distance vector or type)\n",
    "    edge_attr = diff[edge_mask]  # (E, 3), could add type or other info here\n",
    "\n",
    "    return edge_index, edge_attr"
   ]
  },
  {
   "cell_type": "markdown",
   "id": "032e7e05",
   "metadata": {},
   "source": [
    "#### Hierarchical modeling for long-range dependence. \n",
    "\n",
    "in PropNet, we need a large $L$ to account for long-range dependence, so we use Hierarchical modeling for this object that need long-range dependence.\n",
    "\n",
    "We employ a multi-stage propagation paradigm (Root and Leaf concepts)\n",
    "\n",
    "this hierarchical modeling is and interaction graph based on hierarchical modeling and propagation rules are defined on different types of objects as follows:\n",
    "- Rigid bodies:All the particles in a rigid body are globally coupled; hence for each rigid\n",
    "object, we define a hierarchical model to propagate the effects. After the multi-stage\n",
    "propagation, we average the signals on the particles to predict a rigid transformation (rotation\n",
    "and translation) for the object. The motion of each particle is calculated accordingly. For\n",
    "each particle, we also include its *offset to the center-of-mass* to help determine the torque.\n",
    "\n",
    "- Elastic/Plastic objects: For elastically deforming particles, only using the current position\n",
    "and velocity as the state is not sufficient, as it is not clear where the particle will be\n",
    "restored after the deformation. Hence, we include the particle state with the resting position\n",
    "to indicate the place where the particle should be restored. When coupled with plastic\n",
    "deformation, the resting position might change during an interaction. Thus, we also infer the\n",
    "motion of the resting position as a part of the state prediction. We use hierarchical modeling\n",
    "for this category but predict next state for each particles individually.\n",
    "\n",
    "- Fluids: For fluid simulation, one has to enforce density and incompressibility, which can be\n",
    "effectively achieved by only considering a small neighborhood for each particle (Macklin &\n",
    "M¨ uller, 2013). Therefore, we do not need hierarchical modeling for fluids. We build edges\n",
    "dynamically, connecting a fluid particle to its neighboring particles. The strong *inductive bias* \n",
    "leveraged in the fluid particles allows good performance even when tested on data\n",
    "outside training distributions.\n",
    "\n",
    "For the interaction between different materials, two directed edges are generated for any pairs of\n",
    "particles that are closer than a certain distance."
   ]
  },
  {
   "cell_type": "markdown",
   "id": "66bf4d19",
   "metadata": {},
   "source": [
    "#### Control on the Learned Dynamics\n",
    "\n",
    "Model-based methods offer many advantages when comparing with their model-free counterparts,\n",
    "such as generalization and sample efficiency. However, for cases where an accurate model is hard\n",
    "to specify or computationally prohibitive, a data-driven approach that learns to approximate the\n",
    "underlying dynamics becomes useful.\n",
    "\n",
    "Function approximators such as neural networks are naturally differentiable. We can rollout using the\n",
    "learned dynamics and optimize the control inputs by minimizing a loss between the simulated results\n",
    "and a target configuration. In cases where certain physical parameters are unknown, we can perform\n",
    "online system identification by minimizing the difference between the model’s prediction and the\n",
    "reality. [code](../src/DPI-Particle-based/concept.py)\n",
    "\n",
    "<img src=./images/control_on_learned_dynamics.png width=500 style=\"display: block; margin: auto;\">"
   ]
  },
  {
   "cell_type": "markdown",
   "id": "7c7e6e67",
   "metadata": {},
   "source": [
    "End of the paper experimentation\n",
    "\n",
    "----"
   ]
  },
  {
   "cell_type": "markdown",
   "id": "6f5cdfc1",
   "metadata": {},
   "source": []
  }
 ],
 "metadata": {
  "kernelspec": {
   "display_name": "venv",
   "language": "python",
   "name": "python3"
  },
  "language_info": {
   "codemirror_mode": {
    "name": "ipython",
    "version": 3
   },
   "file_extension": ".py",
   "mimetype": "text/x-python",
   "name": "python",
   "nbconvert_exporter": "python",
   "pygments_lexer": "ipython3",
   "version": "3.12.7"
  }
 },
 "nbformat": 4,
 "nbformat_minor": 5
}
